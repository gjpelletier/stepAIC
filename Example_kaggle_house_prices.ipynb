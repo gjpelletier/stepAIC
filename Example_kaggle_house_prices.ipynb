{
 "cells": [
  {
   "cell_type": "markdown",
   "id": "5ad94de2-ff22-4408-aa11-1358b308fddb",
   "metadata": {
    "jp-MarkdownHeadingCollapsed": true
   },
   "source": [
    "# House prices analysis for Kaggle competition\n",
    "\n",
    "by\n",
    "Greg Pelletier\n",
    "\n",
    "The Kaggle House Price Competition is a challenge that encourages the application of advanced regression techniques and creative feature engineering to build models that can accurately predict house prices. Participants explore the data, create and engineer features, build models, and submit predictions. The competition is an excellent starting point for practical experience in data science and machine learning. The following link is the official Web page for the kaggle house price competition:\n",
    "\n",
    "https://www.kaggle.com/competitions/house-prices-advanced-regression-techniques\n",
    "\n",
    "In this notebook I analyze the kaggle house price data using a Stacking Regression method available at this link to the stepAIC module:\n",
    "\n",
    "https://github.com/gjpelletier/stepAIC\n",
    "\n",
    "### Stacking Regression\n",
    "\n",
    "The **stacking** function in the stepAIC module provides output of a fitted regression model and summary statistics using the sklearn StackingRegressor function for ensemble modeling with any combination of sklearn base regressors which can be turned 'on' or 'off' with the following optional keyword arguments:\n",
    "\n",
    "- Lasso= 'on' (default) or 'off'        uses LassoCV\n",
    "- Ridge= 'on' (default) or 'off'        uses RidgeCV\n",
    "- ElasticNet= 'on' (default) or 'off'   uses ElasticNetCV\n",
    "- SGD= 'on' (default) or 'off'          uses SGDRegressor\n",
    "- KNN= 'on' (default) or 'off'          uses KNeighborsRegressor\n",
    "- SVR= 'on' (default) or 'off'          uses SVR(kernel='rbf')\n",
    "- MLP= 'on' or 'off' (default)          uses MLPRegressor\n",
    "- XGB= 'on' (default) or 'off'          uses GradientBoostingRegressor\n",
    "- DecisionTree= 'on' (default) or 'off' uses DecisionTreeRegressor\n",
    "- RandomForest= 'on' (default) or 'off' uses RandomForestRegressor\n",
    "\n",
    "Stacking regression is an **ensemble** machine learning technique that improves predictive accuracy by combining multiple base regression models. Instead of selecting a single best model, stacking leverages multiple models to generate a more robust final prediction.\n",
    "\n",
    "**How Stacking Regression Works**\n",
    "\n",
    "Base Regressors (Level 0 Models):  \n",
    "- Several regression models (e.g., Lasso, Ridge, Elastic, DecisionTree, RandomForest, etc.) are trained independently on the dataset.\n",
    "- Each model learns different aspects of the data.\n",
    "\n",
    "Meta-Model (Level 1 Model):  \n",
    "- A separate model (linear regression) is trained to **learn from the outputs of base models**.\n",
    "- It assigns strength weights to each base model’s predictions, determining which models contribute the most to final accuracy.\n",
    "\n",
    "Final Prediction: \n",
    "- The meta-model makes a final prediction based on the base models' combined outputs.\n",
    "\n",
    "#### Kaggle competition leaderboard score using this notebook\n",
    "\n",
    "The analysis documented in this notebook resulted in a leaderboard score of 0.12075 (rank 314). Any score between 0.1 to 0.15 is considered to be a \"good\" score."
   ]
  },
  {
   "cell_type": "markdown",
   "id": "169eeb34-adb5-4b7f-bdfd-305efaf600be",
   "metadata": {},
   "source": [
    "# Data cleaning, feature transformations, final features\n",
    "\n",
    "The data cleaning, feature transformations, feature engineering, and final features in this section were adapted from the following publicly posted python code:\n",
    "\n",
    "https://www.kaggle.com/code/itslek/blend-stack-lr-gb-0-10649-house-prices-v57"
   ]
  },
  {
   "cell_type": "code",
   "execution_count": 1,
   "id": "298161ed-5d19-4488-9887-78d270a47afc",
   "metadata": {},
   "outputs": [],
   "source": [
    "import numpy as np  # linear algebra\n",
    "import pandas as pd  #\n",
    "from datetime import datetime\n",
    "\n",
    "from scipy.stats import skew  # for some statistics\n",
    "from scipy.special import boxcox1p\n",
    "from scipy.stats import boxcox_normmax\n",
    "\n",
    "from sklearn.linear_model import ElasticNetCV, LassoCV, RidgeCV\n",
    "from sklearn.ensemble import GradientBoostingRegressor\n",
    "from sklearn.svm import SVR\n",
    "from sklearn.pipeline import make_pipeline\n",
    "from sklearn.preprocessing import RobustScaler\n",
    "from sklearn.model_selection import KFold, cross_val_score\n",
    "from sklearn.metrics import mean_squared_error\n",
    "\n",
    "# from mlxtend.regressor import StackingCVRegressor\n",
    "# from xgboost import XGBRegressor\n",
    "# from lightgbm import LGBMRegressor\n",
    "\n",
    "import os\n",
    "import scipy.stats as stats\n",
    "import matplotlib.pyplot as plt"
   ]
  },
  {
   "cell_type": "code",
   "execution_count": 2,
   "id": "74b6f802-785a-4ee1-b1d3-f2b41c9a7150",
   "metadata": {},
   "outputs": [
    {
     "name": "stdout",
     "output_type": "stream",
     "text": [
      "Full train dataset shape is (1460, 81)\n",
      "Full test dataset shape is (1459, 80)\n"
     ]
    }
   ],
   "source": [
    "# read train data into dataframe df_train\n",
    "train_path = \"/mnt/c/z/kaggle/house_prices/data/train.csv\"\n",
    "train = pd.read_csv(train_path)\n",
    "print(\"Full train dataset shape is {}\".format(train.shape))\n",
    "# print(df_train.head())\n",
    "\n",
    "# read test data into dataframe df_test\n",
    "test_path = \"/mnt/c/z/kaggle/house_prices/data/test.csv\"\n",
    "test = pd.read_csv(test_path)\n",
    "print(\"Full test dataset shape is {}\".format(test.shape))\n",
    "# print(df_test.head())"
   ]
  },
  {
   "cell_type": "code",
   "execution_count": 3,
   "id": "8bf84f5b-f979-4694-98d4-88ce6f6df993",
   "metadata": {},
   "outputs": [],
   "source": [
    "train_ID = train['Id']\n",
    "test_ID = test['Id']\n",
    "# Now drop the  'Id' colum since it's unnecessary for  the prediction process.\n",
    "train.drop(['Id'], axis=1, inplace=True)\n",
    "test.drop(['Id'], axis=1, inplace=True)\n",
    "\n",
    "# Deleting outliers\n",
    "train = train[train.GrLivArea < 4500]\n",
    "train.reset_index(drop=True, inplace=True)\n",
    "\n",
    "# We use the numpy fuction log1p which  applies log(1+x) to all elements of the column\n",
    "train[\"SalePrice\"] = np.log1p(train[\"SalePrice\"])\n",
    "y = train.SalePrice.reset_index(drop=True)\n",
    "train_features = train.drop(['SalePrice'], axis=1)\n",
    "test_features = test"
   ]
  },
  {
   "cell_type": "code",
   "execution_count": 4,
   "id": "7c1e484f-17de-4a5a-8e49-56468692ec81",
   "metadata": {},
   "outputs": [
    {
     "name": "stdout",
     "output_type": "stream",
     "text": [
      "(2917, 79)\n"
     ]
    }
   ],
   "source": [
    "features = pd.concat([train_features, test_features]).reset_index(drop=True)\n",
    "print(features.shape)\n",
    "# Some of the non-numeric predictors are stored as numbers; we convert them into strings \n",
    "features['MSSubClass'] = features['MSSubClass'].apply(str)\n",
    "features['YrSold'] = features['YrSold'].astype(str)\n",
    "features['MoSold'] = features['MoSold'].astype(str)\n",
    "\n",
    "features['Functional'] = features['Functional'].fillna('Typ')\n",
    "features['Electrical'] = features['Electrical'].fillna(\"SBrkr\")\n",
    "features['KitchenQual'] = features['KitchenQual'].fillna(\"TA\")\n",
    "features['Exterior1st'] = features['Exterior1st'].fillna(features['Exterior1st'].mode()[0])\n",
    "features['Exterior2nd'] = features['Exterior2nd'].fillna(features['Exterior2nd'].mode()[0])\n",
    "features['SaleType'] = features['SaleType'].fillna(features['SaleType'].mode()[0])\n",
    "\n",
    "features[\"PoolQC\"] = features[\"PoolQC\"].fillna(\"None\")"
   ]
  },
  {
   "cell_type": "code",
   "execution_count": 5,
   "id": "26f620c3-3288-4c35-b29c-20d0ddba1ce6",
   "metadata": {},
   "outputs": [],
   "source": [
    "for col in ('GarageYrBlt', 'GarageArea', 'GarageCars'):\n",
    "    features[col] = features[col].fillna(0)\n",
    "for col in ['GarageType', 'GarageFinish', 'GarageQual', 'GarageCond']:\n",
    "    features[col] = features[col].fillna('None')\n",
    "for col in ('BsmtQual', 'BsmtCond', 'BsmtExposure', 'BsmtFinType1', 'BsmtFinType2'):\n",
    "    features[col] = features[col].fillna('None')\n",
    "\n",
    "features['MSZoning'] = features.groupby('MSSubClass')['MSZoning'].transform(lambda x: x.fillna(x.mode()[0]))\n",
    "\n",
    "objects = []\n",
    "for i in features.columns:\n",
    "    if features[i].dtype == object:\n",
    "        objects.append(i)\n",
    "\n",
    "features.update(features[objects].fillna('None'))\n",
    "\n",
    "features['LotFrontage'] = features.groupby('Neighborhood')['LotFrontage'].transform(lambda x: x.fillna(x.median()))\n"
   ]
  },
  {
   "cell_type": "code",
   "execution_count": 6,
   "id": "45d7b75c-03b4-4a54-ae5a-f66b3a9067b1",
   "metadata": {},
   "outputs": [],
   "source": [
    "# Filling in the rest of the NA's\n",
    "\n",
    "numeric_dtypes = ['int16', 'int32', 'int64', 'float16', 'float32', 'float64']\n",
    "numerics = []\n",
    "for i in features.columns:\n",
    "    if features[i].dtype in numeric_dtypes:\n",
    "        numerics.append(i)\n",
    "features.update(features[numerics].fillna(0))\n",
    "\n",
    "numeric_dtypes = ['int16', 'int32', 'int64', 'float16', 'float32', 'float64']\n",
    "numerics2 = []\n",
    "for i in features.columns:\n",
    "    if features[i].dtype in numeric_dtypes:\n",
    "        numerics2.append(i)"
   ]
  },
  {
   "cell_type": "code",
   "execution_count": 7,
   "id": "a266af1a-7711-4eed-88d8-dffcf906db3c",
   "metadata": {},
   "outputs": [],
   "source": [
    "skew_features = features[numerics2].apply(lambda x: skew(x)).sort_values(ascending=False)\n",
    "\n",
    "high_skew = skew_features[skew_features > 0.5]\n",
    "skew_index = high_skew.index\n",
    "\n",
    "for i in skew_index:\n",
    "    # features[i] = boxcox1p(features[i], boxcox_normmax(features[i] + 1))\n",
    "    features[i] = np.log1p(features[i])\n",
    "\n",
    "features = features.drop(['Utilities', 'Street', 'PoolQC',], axis=1)\n",
    "\n",
    "features['YrBltAndRemod']=features['YearBuilt']+features['YearRemodAdd']\n",
    "features['TotalSF']=features['TotalBsmtSF'] + features['1stFlrSF'] + features['2ndFlrSF']\n",
    "\n",
    "features['Total_sqr_footage'] = (features['BsmtFinSF1'] + features['BsmtFinSF2'] +\n",
    "                                 features['1stFlrSF'] + features['2ndFlrSF'])\n",
    "\n",
    "features['Total_Bathrooms'] = (features['FullBath'] + (0.5 * features['HalfBath']) +\n",
    "                               features['BsmtFullBath'] + (0.5 * features['BsmtHalfBath']))\n",
    "\n",
    "features['Total_porch_sf'] = (features['OpenPorchSF'] + features['3SsnPorch'] +\n",
    "                              features['EnclosedPorch'] + features['ScreenPorch'] +\n",
    "                              features['WoodDeckSF'])\n",
    "\n",
    "# simplified features\n",
    "features['haspool'] = features['PoolArea'].apply(lambda x: 1 if x > 0 else 0)\n",
    "features['has2ndfloor'] = features['2ndFlrSF'].apply(lambda x: 1 if x > 0 else 0)\n",
    "features['hasgarage'] = features['GarageArea'].apply(lambda x: 1 if x > 0 else 0)\n",
    "features['hasbsmt'] = features['TotalBsmtSF'].apply(lambda x: 1 if x > 0 else 0)\n",
    "features['hasfireplace'] = features['Fireplaces'].apply(lambda x: 1 if x > 0 else 0)"
   ]
  },
  {
   "cell_type": "code",
   "execution_count": 8,
   "id": "c127f55c-3425-4771-8bb6-065a359f5d13",
   "metadata": {},
   "outputs": [
    {
     "name": "stdout",
     "output_type": "stream",
     "text": [
      "(2917, 86)\n",
      "(2917, 333)\n"
     ]
    }
   ],
   "source": [
    "print(features.shape)\n",
    "final_features = pd.get_dummies(features).reset_index(drop=True)\n",
    "print(final_features.shape)"
   ]
  },
  {
   "cell_type": "code",
   "execution_count": 9,
   "id": "c57006f0-9eec-419e-96ba-667aed3cad7c",
   "metadata": {},
   "outputs": [
    {
     "name": "stdout",
     "output_type": "stream",
     "text": [
      "X (1458, 333) y (1458,) X_sub (1459, 333)\n"
     ]
    }
   ],
   "source": [
    "X = final_features.iloc[:len(y), :]\n",
    "X_sub = final_features.iloc[len(X):, :]\n",
    "\n",
    "print('X', X.shape, 'y', y.shape, 'X_sub', X_sub.shape)"
   ]
  },
  {
   "cell_type": "code",
   "execution_count": 10,
   "id": "c6da101b-816e-4efc-a14c-7512fd3005f3",
   "metadata": {},
   "outputs": [],
   "source": [
    "# Note: I can't find documentation of how these outliers were discovered\n",
    "outliers = [30, 88, 462, 631, 1322]\n",
    "X = X.drop(X.index[outliers])\n",
    "y = y.drop(y.index[outliers])"
   ]
  },
  {
   "cell_type": "code",
   "execution_count": 11,
   "id": "04ba3c99-72e3-40b2-b64a-0ba5446d1cc7",
   "metadata": {},
   "outputs": [],
   "source": [
    "overfit = []\n",
    "for i in X.columns:\n",
    "    counts = X[i].value_counts()\n",
    "    zeros = counts.iloc[0]\n",
    "    if zeros / len(X) * 100 > 99.94:\n",
    "        overfit.append(i)\n",
    "\n",
    "overfit = list(overfit)\n",
    "overfit.append('MSZoning_C (all)')"
   ]
  },
  {
   "cell_type": "code",
   "execution_count": 12,
   "id": "fd530305-6d5a-4ce9-a62a-f871d42aa75d",
   "metadata": {},
   "outputs": [
    {
     "name": "stdout",
     "output_type": "stream",
     "text": [
      "X (1453, 331) y (1453,) X_sub (1459, 331)\n"
     ]
    }
   ],
   "source": [
    "X = X.drop(overfit, axis=1).copy()\n",
    "X_sub = X_sub.drop(overfit, axis=1).copy()\n",
    "\n",
    "print('X', X.shape, 'y', y.shape, 'X_sub', X_sub.shape)"
   ]
  },
  {
   "cell_type": "markdown",
   "id": "f948fcce-5570-419a-a583-3d06356288c7",
   "metadata": {},
   "source": [
    "## Stacking regression\n",
    "\n",
    "Next we will use the **stacking** function from the stepAIC module (https://github.com/gjpelletier/stepAIC) to perform the regression analysis. \n",
    "\n",
    "The **stacking** function in the stepAIC module provides output of a fitted regression model and summary statistics using the sklearn StackingRegressor function for ensemble modeling with any combination of sklearn base regressors which can be turned 'on' or 'off' with the following optional keyword arguments:\n",
    "\n",
    "- Lasso= 'on' (default) or 'off'        uses LassoCV\n",
    "- Ridge= 'on' (default) or 'off'        uses RidgeCV\n",
    "- ElasticNet= 'on' (default) or 'off'   uses ElasticNetCV\n",
    "- SGD= 'on' (default) or 'off'          uses SGDRegressor\n",
    "- KNN= 'on' (default) or 'off'          uses KNeighborsRegressor\n",
    "- SVR= 'on' (default) or 'off'          uses SVR(kernel='rbf')\n",
    "- MLP= 'on' or 'off' (default)          uses MLPRegressor\n",
    "- XGB= 'on' (default) or 'off'          uses GradientBoostingRegressor\n",
    "- DecisionTree= 'on' (default) or 'off' uses DecisionTreeRegressor\n",
    "- RandomForest= 'on' (default) or 'off' uses RandomForestRegressor\n",
    "\n",
    "Stacking regression is an **ensemble** machine learning technique that improves predictive accuracy by combining multiple base regression models. Instead of selecting a single best model, stacking leverages multiple models to generate a more robust final prediction.\n",
    "\n",
    "Note that the **stacking** function standardizes the X inputs by default. This can be turned off by using the optional keyword argument standardize='off' if you have already standardized X.\n",
    "\n",
    "We will use the following optional keyward arguments:\n",
    "- final_estimator='ridge' to use RidgeCV as the meta-model regressor\n",
    "- SGD='off' will turn off the SGD base regressor because we previously fond that it has near-zero importance. Turning SGD off improves the score slightly"
   ]
  },
  {
   "cell_type": "code",
   "execution_count": 16,
   "id": "cf464128-f2a0-4316-b97d-da37bb17d8e5",
   "metadata": {},
   "outputs": [
    {
     "name": "stdout",
     "output_type": "stream",
     "text": [
      "Fitting StackingRegressor models, please wait ...\n",
      "\n",
      "\n",
      "StackingRegressor statistics of fitted ensemble model in model_outputs['stats']:\n",
      "\n",
      "\n",
      "| Statistic          |   StackingRegressor |\n",
      "|:-------------------|--------------------:|\n",
      "| r-squared          |         0.954555    |\n",
      "| adjusted r-squared |         0.941137    |\n",
      "| n_samples          |      1453           |\n",
      "| df residuals       |      1122           |\n",
      "| df model           |       330           |\n",
      "| F-statistic        |        71.4165      |\n",
      "| Prob (F-statistic) |         1.11022e-16 |\n",
      "| RMSE               |         0.0845946   |\n",
      "| Log-Likelihood     |      1527.03        |\n",
      "| AIC                |     -2392.05        |\n",
      "| BIC                |      -643.912       |\n",
      "\n",
      "\n",
      "Meta-model coefficients of base_regressors in model_outputs['meta_params']:\n",
      "\n",
      "\n",
      "- positive intercept suggests base models under-predict target\n",
      "- negative intercept suggests base models over-predict target\n",
      "- positive coefficients have high importance\n",
      "- coefficients near zero have low importance\n",
      "- negative coefficients have counteracting importance\n",
      "\n",
      "\n",
      "| Coefficient   |   StackingRegressor |\n",
      "|:--------------|--------------------:|\n",
      "| Intercept     |          -0.25679   |\n",
      "| Lasso         |           0.341118  |\n",
      "| Ridge         |           0.0494923 |\n",
      "| ElasticNet    |           0.328701  |\n",
      "| KNN           |           0.0232511 |\n",
      "| SVR           |          -0.028516  |\n",
      "| XGB           |           0.324228  |\n",
      "| DecisionTree  |           0.0279668 |\n",
      "| RandomForest  |          -0.0448919 |\n",
      "\n",
      "\n",
      "Done\n",
      "Time elapsed: 387.11 sec\n"
     ]
    },
    {
     "data": {
      "image/png": "[encoded data removed]",
      "text/plain": [
       "<Figure size 640x480 with 1 Axes>"
      ]
     },
     "metadata": {},
     "output_type": "display_data"
    }
   ],
   "source": [
    "from stepAIC import stacking\n",
    "model_object, model_output = stacking(X, y, final_estimator='ridge', SGD='off')"
   ]
  },
  {
   "cell_type": "markdown",
   "id": "f3809bc4-90b1-4bc5-adbd-33c20b3b4302",
   "metadata": {},
   "source": [
    "# Predictions for submission"
   ]
  },
  {
   "cell_type": "code",
   "execution_count": 17,
   "id": "a4e6a2eb-7118-4dc8-848b-7a8b8eb5ab92",
   "metadata": {},
   "outputs": [],
   "source": [
    "# Standardize X_sub with the same scaler that was used for X in stacking\n",
    "scaler = model_output['scaler']\n",
    "X_sub_scaled = scaler.transform(X_sub)\n",
    "# Convert scaled arrays into pandas dataframes with same column names as X\n",
    "X_sub_scaled = pd.DataFrame(X_sub_scaled, columns=X_sub.columns)\n",
    "# Copy index from unscaled to scaled dataframes\n",
    "X_sub_scaled.index = X_sub.index\n",
    "# print(X_sub_scaled.shape)\n",
    "# X_sub_scaled"
   ]
  },
  {
   "cell_type": "code",
   "execution_count": 18,
   "id": "899b717a-f99b-461f-a3cb-bef69bf94c2b",
   "metadata": {},
   "outputs": [],
   "source": [
    "# predicted y using the standardized X_Sub\n",
    "y_pred = model_object.predict(X_sub_scaled)"
   ]
  },
  {
   "cell_type": "code",
   "execution_count": 19,
   "id": "66a1d477-11a4-40cc-aacf-f67dbf580150",
   "metadata": {},
   "outputs": [
    {
     "data": {
      "image/png": "[encoded data removed]",
      "text/plain": [
       "<Figure size 800x600 with 1 Axes>"
      ]
     },
     "metadata": {},
     "output_type": "display_data"
    }
   ],
   "source": [
    "# QQ plot to compare the log-transformed y and y_pred\n",
    "\n",
    "data1 = y        # training data\n",
    "data2 = y_pred   # predicted from test X_sub\n",
    "\n",
    "# Generate Q-Q plot data for both datasets\n",
    "qq1 = stats.probplot(data1, dist=\"norm\")\n",
    "qq2 = stats.probplot(data2, dist=\"norm\")\n",
    "\n",
    "# Create the plot\n",
    "plt.figure(figsize=(8, 6))\n",
    "\n",
    "# Plot the first dataset\n",
    "plt.scatter(qq1[0][0], qq1[0][1], color='blue', label='train', alpha=0.7)\n",
    "\n",
    "# Plot the second dataset\n",
    "plt.scatter(qq2[0][0], qq2[0][1], color='red', label='test', alpha=0.7, s=10)\n",
    "\n",
    "# Customize the plot\n",
    "plt.title('Q-Q Plot of log(SalePrice) for training data and predicted test data')\n",
    "plt.xlabel('Theoretical Quantiles')\n",
    "plt.ylabel('Sample Quantiles')\n",
    "plt.legend()\n",
    "# plt.grid()\n",
    "\n",
    "# Show the plot\n",
    "plt.show()"
   ]
  },
  {
   "cell_type": "code",
   "execution_count": 20,
   "id": "6b179472-a7ab-4823-bce2-4d91721bac81",
   "metadata": {},
   "outputs": [],
   "source": [
    "# read test data again to retrieve the test Id\n",
    "test_path = \"/mnt/c/z/kaggle/house_prices/data/test.csv\"\n",
    "test2 = pd.read_csv(test_path)\n",
    "# print(\"Full test dataset shape is {}\".format(df_test.shape))\n",
    "# print(test2.head())"
   ]
  },
  {
   "cell_type": "code",
   "execution_count": 21,
   "id": "54c71eec-9dfd-412c-9a41-340f34858f07",
   "metadata": {},
   "outputs": [],
   "source": [
    "# Make the csv file to submit the predictions to kaggle \n",
    "submission = pd.DataFrame(\n",
    "    {\n",
    "        \"Id\": test2['Id'],\n",
    "        \"SalePrice\": np.expm1(y_pred)\n",
    "    }\n",
    "    )\n",
    "submission\n",
    "submission.to_csv('submission_StackingRegressor_v31b05.csv', index=False) "
   ]
  },
  {
   "cell_type": "code",
   "execution_count": 14,
   "id": "b7758756-66a5-43dc-9816-af33d7070c8b",
   "metadata": {},
   "outputs": [
    {
     "name": "stdout",
     "output_type": "stream",
     "text": [
      "Help on function stacking in module stepAIC:\n",
      "\n",
      "stacking(X, y, **kwargs)\n",
      "    Python function for StackingRegressor linear regression\n",
      "\n",
      "    by\n",
      "    Greg Pelletier\n",
      "    gjpelletier@gmail.com\n",
      "    30-May-2025\n",
      "\n",
      "    REQUIRED INPUTS (X and y should have same number of rows and\n",
      "    only contain real numbers)\n",
      "    X = dataframe of the candidate independent variables\n",
      "        (as many columns of data as needed)\n",
      "    y = dataframe of the dependent variable (one column of data)\n",
      "\n",
      "    OPTIONAL KEYWORD ARGUMENTS\n",
      "    **kwargs (optional keyword arguments):\n",
      "        standardize= 'on' (default) or 'off' where\n",
      "            'on': standardize X using sklearn.preprocessing StandardScaler\n",
      "            'off': do not standardize X (only used if X is already standardized)\n",
      "        random_state= (default random_state=42)        - initial random seed\n",
      "\n",
      "        final_estimator= 'linear' (default), 'lasso', or 'elastic'\n",
      "            A regressor which will be used to combine the base estimators.\n",
      "            The default final regressor is LinearRegression\n",
      "            'linear' = LinearRegression (default)\n",
      "            'lasso' = LassoCV\n",
      "            'ridge' = RidgeCV\n",
      "            'elastic' = ElasticNetCV\n",
      "\n",
      "        The following keyword arguments activate/deactivate selected base_regressors,\n",
      "        and any combination of the following base_regressors may be 'on' or 'off':\n",
      "\n",
      "            Lasso= 'on' (default) or 'off'        - LassoCV\n",
      "            Ridge= 'on' (default) or 'off'        - RidgeCV\n",
      "            ElasticNet= 'on' (default) or 'off'   - ElasticNetCV\n",
      "            SGD= 'on' (default) or 'off'          - SGDRegressor\n",
      "            KNN= 'on' (default) or 'off'          - KNeighborsRegressor\n",
      "            SVR= 'on' (default) or 'off'          - SVR(kernel='rbf')\n",
      "            MLP= 'on' or 'off' (default)          - MLPRegressor\n",
      "            XGB= 'on' (default) or 'off'          - GradientBoostingRegressor\n",
      "            DecisionTree= 'on' (default) or 'off' - DecisionTreeRegressor\n",
      "            RandomForest= 'on' (default) or 'off' - RandomForestRegressor\n",
      "\n",
      "        verbose= 'on' (default) or 'off' where\n",
      "            'on': display model summary on screen\n",
      "            'off': turn off display of model summary on screen\n",
      "\n",
      "    Standardization is generally recommended\n",
      "\n",
      "    RETURNS\n",
      "        model_objects, model_outputs\n",
      "            model_objects is the fitted model object from\n",
      "                sklearn.ensemble StackingRegressor\n",
      "            model_outputs is a dictionary of the following outputs:\n",
      "                - 'scaler': sklearn.preprocessing StandardScaler for X\n",
      "                - 'standardize': 'on' scaler was used for X, 'off' scaler not used\n",
      "                - 'y_pred': Predicted y values\n",
      "                - 'residuals': Residuals (y-y_pred) for each of the four methods\n",
      "                - 'strength': Intercept and coefficients of the\n",
      "                    strength of each base_regressor\n",
      "                - 'stats': Regression statistics for each model\n",
      "\n",
      "    NOTE\n",
      "    Do any necessary/optional cleaning of the data before\n",
      "    passing the data to this function. X and y should have the same number of rows\n",
      "    and contain only real numbers with no missing values. X can contain as many\n",
      "    columns as needed, but y should only be one column. X should have unique\n",
      "    column names for for each column\n",
      "\n",
      "    EXAMPLE\n",
      "    model_objects, model_outputs = stacking(X, y)\n",
      "\n"
     ]
    }
   ],
   "source": [
    "help(stacking)"
   ]
  },
  {
   "cell_type": "code",
   "execution_count": null,
   "id": "c5176286-7bc7-41c8-b633-0dc65bc12149",
   "metadata": {},
   "outputs": [],
   "source": []
  }
 ],
 "metadata": {
  "kernelspec": {
   "display_name": "Python 3 (ipykernel)",
   "language": "python",
   "name": "python3"
  },
  "language_info": {
   "codemirror_mode": {
    "name": "ipython",
    "version": 3
   },
   "file_extension": ".py",
   "mimetype": "text/x-python",
   "name": "python",
   "nbconvert_exporter": "python",
   "pygments_lexer": "ipython3",
   "version": "3.13.3"
  }
 },
 "nbformat": 4,
 "nbformat_minor": 5
}
